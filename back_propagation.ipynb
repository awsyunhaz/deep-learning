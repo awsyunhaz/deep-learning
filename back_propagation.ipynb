{
 "cells": [
  {
   "cell_type": "code",
   "execution_count": 7,
   "metadata": {},
   "outputs": [
    {
     "name": "stdout",
     "output_type": "stream",
     "text": [
      "loss at step 0.06749248504638672\n",
      "loss at step 0.01633850485086441\n",
      "loss at step 0.009075473994016647\n",
      "loss at step 0.007144360803067684\n",
      "loss at step 0.005784708075225353\n"
     ]
    }
   ],
   "source": [
    "import tensorflow as tf\n",
    "from numpy.random import RandomState\n",
    "\n",
    "batch_size = 8\n",
    "data_size = 128\n",
    "steps = 5000\n",
    "w1 = tf.Variable(tf.random_normal([2, 3], stddev=1, seed=1))\n",
    "w2 = tf.Variable(tf.random_normal([3, 1], stddev=1, seed=1))\n",
    "feature = tf.placeholder(tf.float32, shape=(None, 2), name=\"x\")\n",
    "label = tf.placeholder(tf.float32, shape=(None,1), name=\"label\")\n",
    "\n",
    "# Forward propagation\n",
    "a = tf.matmul(feature, w1)\n",
    "y = tf.matmul(a, w2)\n",
    "# avoid log0\n",
    "cross_entropy = -tf.reduce_mean(label * tf.log(tf.clip_by_value(y, 0, 1.0)))\n",
    "# cross_entropy = tf.nn.softmax_cross_entropy_with_logits(labels=label,logits=y)\n",
    "train_step = tf.train.AdamOptimizer(0.001).minimize(cross_entropy)\n",
    "X = RandomState(1).rand(data_size, 2)\n",
    "Y = [[int(x1+x2<1)] for (x1, x2) in X]\n",
    "\n",
    "init_op = tf.initialize_all_variables()\n",
    "with tf.Session() as sess:\n",
    "    sess.run(init_op)\n",
    "    for i in range(steps):\n",
    "        start = (i*batch_size) % data_size\n",
    "        end = min(start+batch_size, data_size)\n",
    "        sess.run(train_step,\n",
    "                 feed_dict={feature:X[start:end], label:Y[start:end]})\n",
    "        if i%1000==0:\n",
    "            loss = sess.run(cross_entropy,\n",
    "                            feed_dict={feature:X, label:Y})\n",
    "            print(\"loss at step {}\".format(loss))"
   ]
  }
 ],
 "metadata": {
  "kernelspec": {
   "display_name": "Python 3",
   "language": "python",
   "name": "python3"
  },
  "language_info": {
   "codemirror_mode": {
    "name": "ipython",
    "version": 3
   },
   "file_extension": ".py",
   "mimetype": "text/x-python",
   "name": "python",
   "nbconvert_exporter": "python",
   "pygments_lexer": "ipython3",
   "version": "3.5.2"
  }
 },
 "nbformat": 4,
 "nbformat_minor": 2
}
